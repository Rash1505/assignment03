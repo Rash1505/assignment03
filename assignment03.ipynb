{
 "cells": [
  {
   "cell_type": "code",
   "execution_count": null,
   "id": "ffbaa30b-bce9-457d-bb67-86a17296ce2d",
   "metadata": {},
   "outputs": [],
   "source": [
    "Q1"
   ]
  },
  {
   "cell_type": "code",
   "execution_count": null,
   "id": "27775e54-8708-4f78-97ac-4659f2eb6861",
   "metadata": {},
   "outputs": [],
   "source": [
    "#for loop\n",
    "\n",
    "It is used to repeat a specific block of code a known number of times."
   ]
  },
  {
   "cell_type": "code",
   "execution_count": null,
   "id": "9c187161-1977-4c00-ac71-029e42f743aa",
   "metadata": {},
   "outputs": [],
   "source": [
    "#example of for loop\n",
    "\n",
    "l = [1,2,3,4,]\n",
    "for i in l:\n",
    "    print(i)"
   ]
  },
  {
   "cell_type": "code",
   "execution_count": null,
   "id": "3832d277-538d-439e-94fc-75a3040f58da",
   "metadata": {},
   "outputs": [],
   "source": [
    "#while loop\n",
    "\n",
    "it is used to repeat a speicific block of code an unknown number of times, until a condition is true."
   ]
  },
  {
   "cell_type": "code",
   "execution_count": null,
   "id": "e2fe9967-2c56-4b03-9b7f-ff790ac9ea5c",
   "metadata": {},
   "outputs": [],
   "source": [
    "#example of while loop\n",
    "\n",
    "a = 1\n",
    "while a <= 10 :\n",
    "    print(a)\n",
    "    a = a + 1"
   ]
  },
  {
   "cell_type": "code",
   "execution_count": null,
   "id": "22e10db9-efd0-40d1-ae3e-c1209e3aa986",
   "metadata": {},
   "outputs": [],
   "source": [
    "Q2 "
   ]
  },
  {
   "cell_type": "code",
   "execution_count": 8,
   "id": "0c7226f1-a249-412b-87a5-1dcd7d63347c",
   "metadata": {},
   "outputs": [],
   "source": [
    "#using for loop\n",
    "\n",
    "num=range(1,11)\n",
    "sum=0\n",
    "product=1\n",
    "for i in num:\n",
    "    sum=sum+i\n",
    "    product=product*i\n",
    "    print('sum:',sum)\n",
    "    print('product:',product)"
   ]
  },
  {
   "cell_type": "code",
   "execution_count": null,
   "id": "4ff22a8d-77b8-43fe-955b-20a26a605c94",
   "metadata": {},
   "outputs": [],
   "source": [
    "#using while loop\n",
    "\n",
    "num=range(1,11)\n",
    "sum=0\n",
    "product=1\n",
    "i=0\n",
    "while i<len(num):\n",
    "    sum=sum+num[i]\n",
    "    product=product*num[i]\n",
    "    i=i+1\n",
    "    print('sum:',sum)\n",
    "    print('product:',product)\n"
   ]
  },
  {
   "cell_type": "code",
   "execution_count": null,
   "id": "a1ba809b-13d8-44fd-bd5b-50af54ef9da2",
   "metadata": {},
   "outputs": [],
   "source": [
    "Q3"
   ]
  },
  {
   "cell_type": "code",
   "execution_count": null,
   "id": "21c50d0a-93f5-496a-9326-f789a9a5a6c8",
   "metadata": {},
   "outputs": [],
   "source": [
    "ele_consumed=int(input('enter your electricity units'))\n",
    "if ele_consumed<=100:\n",
    "    print('your electricity bill is:',ele_consumed*4.5)\n",
    "elif ele_consumed>=101 and ele_consumed<=200:\n",
    "    print('your electricity bill is:',100*4.5+(ele_consumed-100)*6)\n",
    "elif ele_consumed>=201 and ele_consumed<=300:\n",
    "    print('your electricity bill is:',100*4.5+100*6+(ele_consumed-200)*10)\n",
    "else :\n",
    "    print('your electricity bill is:',100*4.5+100*6+100*10+(ele_consumed-300)*20)\n",
    "    "
   ]
  },
  {
   "cell_type": "code",
   "execution_count": null,
   "id": "09cc1336-5e54-4d9c-a771-60407386f715",
   "metadata": {},
   "outputs": [],
   "source": [
    "Q4"
   ]
  },
  {
   "cell_type": "code",
   "execution_count": 5,
   "id": "294edb00-4198-4b9c-8e9c-7bb10b674251",
   "metadata": {},
   "outputs": [
    {
     "name": "stdout",
     "output_type": "stream",
     "text": [
      "[8, 64, 125, 216, 512, 1000, 1728, 2744, 3375, 4096, 5832, 8000, 10648, 13824, 15625, 17576, 21952, 27000, 32768, 39304, 42875, 46656, 54872, 64000, 74088, 85184, 91125, 97336, 110592, 125000, 140608, 157464, 166375, 175616, 195112, 216000, 238328, 262144, 274625, 287496, 314432, 343000, 373248, 405224, 421875, 438976, 474552, 512000, 551368, 592704, 614125, 636056, 681472, 729000, 778688, 830584, 857375, 884736, 941192, 1000000]\n"
     ]
    }
   ],
   "source": [
    "#using for loop\n",
    "\n",
    "a=list(range(1,101))\n",
    "b=[]\n",
    "for i in a:\n",
    "    cube=i**3\n",
    "    if cube%5==0 or cube%4==0:\n",
    "        b.append(cube)\n",
    "print(b)\n",
    "    "
   ]
  },
  {
   "cell_type": "code",
   "execution_count": null,
   "id": "969f66c6-2b41-40e2-a0e2-a58c09030a45",
   "metadata": {},
   "outputs": [],
   "source": [
    "#using while loop\n",
    "\n",
    "l=list(range(1,101))\n",
    "l1=[]\n",
    "i=0\n",
    "while i<len(l):\n",
    "    cube=l[i]**3\n",
    "    if cube%5==0 or cube%4==0:\n",
    "        l1.append(cube)\n",
    "        i=i+1\n",
    "print(l1)        \n",
    "        \n"
   ]
  },
  {
   "cell_type": "code",
   "execution_count": null,
   "id": "6444f5bc-82f4-486b-986e-f0ca360ac243",
   "metadata": {},
   "outputs": [],
   "source": [
    "Q5"
   ]
  },
  {
   "cell_type": "code",
   "execution_count": 1,
   "id": "62695454-3726-4672-a23e-bf19b5bc3b0c",
   "metadata": {},
   "outputs": [],
   "source": [
    "string='I want to become a data scientist'\n",
    "v=('a','e','i','o','u')"
   ]
  },
  {
   "cell_type": "code",
   "execution_count": null,
   "id": "e9d1d932-aad7-4f03-bd74-d4f36fbe2d95",
   "metadata": {},
   "outputs": [],
   "source": [
    "def vowel(i):\n",
    "    return i in v\n",
    "list(filter(vowel,string))"
   ]
  }
 ],
 "metadata": {
  "kernelspec": {
   "display_name": "Python 3 (ipykernel)",
   "language": "python",
   "name": "python3"
  },
  "language_info": {
   "codemirror_mode": {
    "name": "ipython",
    "version": 3
   },
   "file_extension": ".py",
   "mimetype": "text/x-python",
   "name": "python",
   "nbconvert_exporter": "python",
   "pygments_lexer": "ipython3",
   "version": "3.10.8"
  }
 },
 "nbformat": 4,
 "nbformat_minor": 5
}
